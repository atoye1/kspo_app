{
 "cells": [
  {
   "cell_type": "markdown",
   "metadata": {},
   "source": [
    "정리된 데이터를 열어서 관련 정보를 확인하는 노트북"
   ]
  },
  {
   "cell_type": "code",
   "execution_count": 1,
   "metadata": {},
   "outputs": [],
   "source": [
    "import pandas as pd"
   ]
  },
  {
   "cell_type": "code",
   "execution_count": 3,
   "metadata": {},
   "outputs": [
    {
     "name": "stderr",
     "output_type": "stream",
     "text": [
      "/var/folders/lg/zz8kzx7j04q6lvkcyzwjznwh0000gn/T/ipykernel_31186/781523208.py:3: DtypeWarning: Columns (6) have mixed types. Specify dtype option on import or set low_memory=False.\n",
      "  all_facilities = pd.read_csv('./data/all_facilities.csv')\n"
     ]
    }
   ],
   "source": [
    "voucher_programs = pd.read_csv('./data/voucher_programs.csv')\n",
    "normal_programs = pd.read_csv('./data/normal_programs.csv')\n",
    "all_facilities = pd.read_csv('./data/all_facilities.csv')"
   ]
  },
  {
   "cell_type": "code",
   "execution_count": 10,
   "metadata": {},
   "outputs": [
    {
     "name": "stdout",
     "output_type": "stream",
     "text": [
      "voucher_programs details\n",
      "<class 'pandas.core.frame.DataFrame'>\n",
      "RangeIndex: 53503 entries, 0 to 53502\n",
      "Data columns (total 14 columns):\n",
      " #   Column               Non-Null Count  Dtype \n",
      "---  ------               --------------  ----- \n",
      " 0   item_nm              53503 non-null  object\n",
      " 1   start_tm             53503 non-null  object\n",
      " 2   row_num              53503 non-null  int64 \n",
      " 3   lectr_nm             53356 non-null  object\n",
      " 4   item_cd              53503 non-null  int64 \n",
      " 5   facil_sn             53503 non-null  int64 \n",
      " 6   equip_tm             53503 non-null  object\n",
      " 7   lectr_weekday_val    53503 non-null  int64 \n",
      " 8   course_seta_desc_cn  25264 non-null  object\n",
      " 9   course_no            53503 non-null  int64 \n",
      " 10  settl_amt            53503 non-null  int64 \n",
      " 11  course_nm            53503 non-null  object\n",
      " 12  brno                 53503 non-null  int64 \n",
      " 13  voucher              53503 non-null  bool  \n",
      "dtypes: bool(1), int64(7), object(6)\n",
      "memory usage: 5.4+ MB\n"
     ]
    },
    {
     "data": {
      "text/plain": [
       "(None,\n",
       "             row_num       item_cd      facil_sn  lectr_weekday_val  \\\n",
       " count  53503.000000  53503.000000  53503.000000       5.350300e+04   \n",
       " mean   26752.000000     28.038147   4628.355513       9.314277e+05   \n",
       " std    15445.130063     26.147029   8538.231874       3.848953e+05   \n",
       " min        1.000000      1.000000      1.000000       0.000000e+00   \n",
       " 25%    13376.500000     12.000000      1.000000       1.010100e+06   \n",
       " 50%    26752.000000     22.000000      1.000000       1.111100e+06   \n",
       " 75%    40127.500000     25.000000   3747.000000       1.111100e+06   \n",
       " max    53503.000000    116.000000  27887.000000       1.111111e+06   \n",
       " \n",
       "           course_no      settl_amt          brno  \n",
       " count  5.350300e+04   53503.000000  5.350300e+04  \n",
       " mean   1.176057e+06  108281.397847  4.266494e+09  \n",
       " std    1.153553e+06   50826.814425  2.313401e+09  \n",
       " min    1.000000e+00       1.000000  1.010373e+09  \n",
       " 25%    4.726250e+04   95000.000000  2.109728e+09  \n",
       " 50%    8.244570e+05  100000.000000  4.109207e+09  \n",
       " 75%    2.284526e+06  110000.000000  6.109543e+09  \n",
       " max    3.529525e+06  999999.000000  8.999901e+09  ,\n",
       "   item_nm start_tm  row_num    lectr_nm  item_cd  facil_sn equip_tm  \\\n",
       " 0    기타종목    10:00        1         허지원        3         1    20:00   \n",
       " 1    에어로빅    09:20        2         엄수정       14         1    10:30   \n",
       " 2    에어로빅    19:50        3         엄수정       14         1    20:00   \n",
       " 3      복싱    10:00        4         이준희       76         2    22:00   \n",
       " 4      복싱    10:00        5  챔피언 최재식 관장       76     18888    21:00   \n",
       " \n",
       "    lectr_weekday_val                                course_seta_desc_cn  \\\n",
       " 0            1111100                               유아부터 어린이까지 신청 가능합니다.   \n",
       " 1            1111100                                                NaN   \n",
       " 2            1111110                                                NaN   \n",
       " 3            1111100  TF복싱체육관 \\r\\n\\r\\n1호점 : 경주시 양정로 315 2층 TF복싱체육관 동...   \n",
       " 4            1111100  충주 신연수동 스타벅스앞 강성체육관 저희도장은 복싱 킥복싱 무에타이 외에도 핏라이트...   \n",
       " \n",
       "    course_no  settl_amt             course_nm        brno  voucher  \n",
       " 0       6362      80000              어린이 체육교실  2229201531     True  \n",
       " 1    1862283     100000            Kl. 다이어트댄스  6182069341     True  \n",
       " 2    1862286     100000              Kl다이어트댄스  6182069341     True  \n",
       " 3    2667549     150000                복싱트레이닝  8889700735     True  \n",
       " 4    1486473     100000  강성체육관 킥복싱 무에타이 키즈킥복싱  3039064210     True  )"
      ]
     },
     "execution_count": 10,
     "metadata": {},
     "output_type": "execute_result"
    }
   ],
   "source": [
    "print('voucher_programs details')\n",
    "voucher_programs.info(), voucher_programs.describe(), voucher_programs.head()"
   ]
  },
  {
   "cell_type": "code",
   "execution_count": 8,
   "metadata": {},
   "outputs": [
    {
     "name": "stdout",
     "output_type": "stream",
     "text": [
      "normal_programs details\n",
      "<class 'pandas.core.frame.DataFrame'>\n",
      "RangeIndex: 40573 entries, 0 to 40572\n",
      "Data columns (total 23 columns):\n",
      " #   Column                   Non-Null Count  Dtype  \n",
      "---  ------                   --------------  -----  \n",
      " 0   FCLTY_NM                 40573 non-null  object \n",
      " 1   FCLTY_TY_NM              40573 non-null  object \n",
      " 2   CTPRVN_CD                40573 non-null  float64\n",
      " 3   CTPRVN_NM                40573 non-null  object \n",
      " 4   SIGNGU_CD                40573 non-null  float64\n",
      " 5   SIGNGU_NM                40500 non-null  object \n",
      " 6   FCLTY_ADDR               37071 non-null  object \n",
      " 7   FCLTY_TEL_NO             23377 non-null  float64\n",
      " 8   PROGRM_TY_NM             22955 non-null  object \n",
      " 9   PROGRM_NM                40573 non-null  object \n",
      " 10  PROGRM_TRGET_NM          33085 non-null  object \n",
      " 11  PROGRM_BEGIN_DE          40573 non-null  int64  \n",
      " 12  PROGRM_END_DE            40573 non-null  int64  \n",
      " 13  PROGRM_ESTBL_WKDAY_NM    40163 non-null  object \n",
      " 14  PROGRM_ESTBL_TIZN_VALUE  40356 non-null  object \n",
      " 15  PROGRM_RCRIT_NMPR_CO     40573 non-null  int64  \n",
      " 16  PROGRM_PRC               40573 non-null  int64  \n",
      " 17  PROGRM_PRC_TY_NM         8188 non-null   object \n",
      " 18  HMPG_URL                 40157 non-null  object \n",
      " 19  SAFE_MANAGT_CN           628 non-null    object \n",
      " 20  EDC_GOAL_CN              1751 non-null   object \n",
      " 21  PRTC_NMPR_PARTCPT_AT     21872 non-null  object \n",
      " 22  LDR_QUALF_CN             2599 non-null   object \n",
      "dtypes: float64(3), int64(4), object(16)\n",
      "memory usage: 7.1+ MB\n"
     ]
    },
    {
     "data": {
      "text/plain": [
       "(None,\n",
       "           CTPRVN_CD     SIGNGU_CD  FCLTY_TEL_NO  PROGRM_BEGIN_DE  \\\n",
       " count  4.057300e+04  4.057300e+04  2.337700e+04     4.057300e+04   \n",
       " mean   2.490388e+09  2.527322e+09  4.512820e+08     2.024111e+07   \n",
       " std    1.432342e+09  1.425601e+09  8.465198e+08     8.325889e+01   \n",
       " min    1.100000e+09  1.111000e+09  2.351655e+07     2.024100e+07   \n",
       " 25%    1.100000e+09  1.153000e+09  2.861131e+07     2.024100e+07   \n",
       " 50%    2.600000e+09  2.626000e+09  2.228084e+08     2.024110e+07   \n",
       " 75%    4.100000e+09  4.129000e+09  3.172572e+08     2.024120e+07   \n",
       " max    5.100000e+09  5.121000e+09  3.180867e+09     2.024120e+07   \n",
       " \n",
       "        PROGRM_END_DE  PROGRM_RCRIT_NMPR_CO      PROGRM_PRC  \n",
       " count   4.057300e+04          40573.000000    40573.000000  \n",
       " mean    2.024114e+07             15.479235    58399.770488  \n",
       " std     8.328743e+01             53.318347    53460.423035  \n",
       " min     2.024102e+07              0.000000        0.000000  \n",
       " 25%     2.024103e+07              0.000000    33000.000000  \n",
       " 50%     2.024113e+07              0.000000    45100.000000  \n",
       " 75%     2.024123e+07             20.000000    65000.000000  \n",
       " max     2.024123e+07           3000.000000  1000000.000000  ,\n",
       "      FCLTY_NM FCLTY_TY_NM     CTPRVN_CD CTPRVN_NM     SIGNGU_CD SIGNGU_NM  \\\n",
       " 0    신월문화체육센터       생활체육관  1.100000e+09     서울특별시  1.147000e+09       양천구   \n",
       " 1    신월문화체육센터       생활체육관  1.100000e+09     서울특별시  1.147000e+09       양천구   \n",
       " 2   마포아트센터체육관       생활체육관  1.100000e+09     서울특별시  1.144000e+09       마포구   \n",
       " 3  금천구민문화체육센터       생활체육관  1.100000e+09     서울특별시  1.154500e+09       금천구   \n",
       " 4  금천구민문화체육센터       생활체육관  1.100000e+09     서울특별시  1.154500e+09       금천구   \n",
       " \n",
       "                    FCLTY_ADDR  FCLTY_TEL_NO PROGRM_TY_NM  \\\n",
       " 0                         NaN           NaN          NaN   \n",
       " 1                         NaN           NaN          NaN   \n",
       " 2                         NaN           NaN          NaN   \n",
       " 3  서울특별시 금천구 독산로54길 188 (독산동)    28611313.0          NaN   \n",
       " 4  서울특별시 금천구 독산로54길 188 (독산동)    28611313.0          NaN   \n",
       " \n",
       "                                           PROGRM_NM  ...  \\\n",
       " 0                           기구필라테스06-C(06:00~06:50)  ...   \n",
       " 1                           기구필라테스07-C(07:00~07:50)  ...   \n",
       " 2                                          기구필라 7시C  ...   \n",
       " 3  기구필라테스/금(주1회)월4회/08:00~08:50  회원구분:송미선  장소:필라테스룸  ...   \n",
       " 4  기구필라테스/금(주1회)월4회/08:00~08:50  회원구분:송미선  장소:필라테스룸  ...   \n",
       " \n",
       "   PROGRM_ESTBL_WKDAY_NM  PROGRM_ESTBL_TIZN_VALUE  PROGRM_RCRIT_NMPR_CO  \\\n",
       " 0                     금              06:00~06:50                     6   \n",
       " 1                     금              07:00~07:50                     6   \n",
       " 2                     금              07:00~07:50                     8   \n",
       " 3                     금              08:00~08:50                     0   \n",
       " 4                     금              08:00~08:50                     0   \n",
       " \n",
       "   PROGRM_PRC PROGRM_PRC_TY_NM                   HMPG_URL  SAFE_MANAGT_CN  \\\n",
       " 0      65000              NaN      https://www.ycs.or.kr             NaN   \n",
       " 1      65000              NaN      https://www.ycs.or.kr             NaN   \n",
       " 2      77000              NaN  https://course.mfac.or.kr             NaN   \n",
       " 3      60000         성인 (1개월)          https://s.gfmc.kr             NaN   \n",
       " 4      60000       65세↑ (1개월)          https://s.gfmc.kr             NaN   \n",
       " \n",
       "   EDC_GOAL_CN PRTC_NMPR_PARTCPT_AT LDR_QUALF_CN  \n",
       " 0         NaN                    N          NaN  \n",
       " 1         NaN                    N          NaN  \n",
       " 2         NaN                    N          NaN  \n",
       " 3         NaN                  NaN          NaN  \n",
       " 4         NaN                  NaN          NaN  \n",
       " \n",
       " [5 rows x 23 columns])"
      ]
     },
     "execution_count": 8,
     "metadata": {},
     "output_type": "execute_result"
    }
   ],
   "source": [
    "print(\"normal_programs details\")\n",
    "normal_programs.info(), normal_programs.describe(), normal_programs.head()\n"
   ]
  },
  {
   "cell_type": "code",
   "execution_count": 9,
   "metadata": {},
   "outputs": [
    {
     "name": "stdout",
     "output_type": "stream",
     "text": [
      "all_facilities details\n",
      "<class 'pandas.core.frame.DataFrame'>\n",
      "RangeIndex: 73127 entries, 0 to 73126\n",
      "Data columns (total 17 columns):\n",
      " #   Column                    Non-Null Count  Dtype  \n",
      "---  ------                    --------------  -----  \n",
      " 0   FCLTY_NM                  73127 non-null  object \n",
      " 1   INDUTY_NM                 53922 non-null  object \n",
      " 2   FCLTY_FLAG_NM             53922 non-null  object \n",
      " 3   FCLTY_TY_CD               53922 non-null  object \n",
      " 4   FCLTY_TY_NM               73126 non-null  object \n",
      " 5   FCLTY_LO                  51597 non-null  float64\n",
      " 6   FCLTY_LA                  51590 non-null  object \n",
      " 7   FCLTY_TEL_NO              39458 non-null  object \n",
      " 8   FCLTY_HMPG_URL            2941 non-null   object \n",
      " 9   POSESN_MBY_NM             35301 non-null  object \n",
      " 10  REGIST_DT                 53068 non-null  float64\n",
      " 11  UPDT_DT                   53056 non-null  float64\n",
      " 12  pres_nm                   22363 non-null  object \n",
      " 13  brno                      22363 non-null  float64\n",
      " 14  FULL_ADDR                 73127 non-null  object \n",
      " 15  is_voucher                73127 non-null  bool   \n",
      " 16  FULL_RESPONSIBILITY_INFO  43633 non-null  object \n",
      "dtypes: bool(1), float64(4), object(12)\n",
      "memory usage: 9.0+ MB\n"
     ]
    },
    {
     "data": {
      "text/plain": [
       "(None,\n",
       "            FCLTY_LO     REGIST_DT       UPDT_DT          brno\n",
       " count  51597.000000  5.306800e+04  5.305600e+04  2.236300e+04\n",
       " mean     127.609593  1.537580e+12  1.616841e+12  4.360888e+09\n",
       " std        3.962820  8.297398e+10  8.988439e+10  2.308816e+09\n",
       " min        0.000000  1.475971e+12  1.479082e+12  7.109020e+08\n",
       " 25%      126.983496  1.483142e+12  1.543882e+12  2.198660e+09\n",
       " 50%      127.471808  1.483488e+12  1.629936e+12  4.170748e+09\n",
       " 75%      128.568509  1.581293e+12  1.715645e+12  6.151931e+09\n",
       " max      130.910203  1.722384e+12  1.722384e+12  9.136522e+09,\n",
       "            FCLTY_NM INDUTY_NM FCLTY_FLAG_NM FCLTY_TY_CD FCLTY_TY_NM  FCLTY_LO  \\\n",
       " 0          국민재활발달센터       NaN           NaN         NaN        기타종목       NaN   \n",
       " 1        (구)SB복싱멀티짐       NaN           NaN         NaN          복싱       NaN   \n",
       " 2          Kl다이어트댄스       NaN           NaN         NaN        에어로빅       NaN   \n",
       " 3             TF복싱짐       NaN           NaN         NaN          복싱       NaN   \n",
       " 4   강성 체육관 킥복싱 무에타이       NaN           NaN         NaN          복싱       NaN   \n",
       " \n",
       "   FCLTY_LA FCLTY_TEL_NO FCLTY_HMPG_URL POSESN_MBY_NM  REGIST_DT  UPDT_DT  \\\n",
       " 0      NaN          NaN            NaN           NaN        NaN      NaN   \n",
       " 1      NaN          NaN            NaN           NaN        NaN      NaN   \n",
       " 2      NaN          NaN            NaN           NaN        NaN      NaN   \n",
       " 3      NaN          NaN            NaN           NaN        NaN      NaN   \n",
       " 4      NaN          NaN            NaN           NaN        NaN      NaN   \n",
       " \n",
       "   pres_nm          brno                           FULL_ADDR  is_voucher  \\\n",
       " 0     허지원  2.229202e+09             대구광역시 수성구 범안로 543층(범물동)        True   \n",
       " 1     전성배  1.239532e+09  경기도 고양시 일산서구 가좌로 102층 SB복싱멀티짐(가좌동)        True   \n",
       " 2     엄수정  6.182069e+09   경상남도 김해시 율하2로58번길 40Kl다이어트댄스(율하동)        True   \n",
       " 3     이준희  8.889701e+09   경상북도 경주시 유림로5번길 1493층  TF복싱짐(용강동)        True   \n",
       " 4     최재식  3.039064e+09           충청북도 충주시 계명대로 228(연수동) 3층        True   \n",
       " \n",
       "   FULL_RESPONSIBILITY_INFO  \n",
       " 0                      NaN  \n",
       " 1                      NaN  \n",
       " 2                      NaN  \n",
       " 3                      NaN  \n",
       " 4                      NaN  )"
      ]
     },
     "execution_count": 9,
     "metadata": {},
     "output_type": "execute_result"
    }
   ],
   "source": [
    "print(\"all_facilities details\")\n",
    "all_facilities.info(), all_facilities.describe(), all_facilities.head()\n"
   ]
  },
  {
   "cell_type": "code",
   "execution_count": null,
   "metadata": {},
   "outputs": [],
   "source": []
  }
 ],
 "metadata": {
  "kernelspec": {
   "display_name": ".venv",
   "language": "python",
   "name": "python3"
  },
  "language_info": {
   "codemirror_mode": {
    "name": "ipython",
    "version": 3
   },
   "file_extension": ".py",
   "mimetype": "text/x-python",
   "name": "python",
   "nbconvert_exporter": "python",
   "pygments_lexer": "ipython3",
   "version": "3.12.7"
  }
 },
 "nbformat": 4,
 "nbformat_minor": 2
}
