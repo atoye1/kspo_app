{
 "cells": [
  {
   "cell_type": "markdown",
   "metadata": {},
   "source": [
    "정리된 데이터를 열어서 관련 정보를 확인하는 노트북"
   ]
  },
  {
   "cell_type": "code",
   "execution_count": 1,
   "metadata": {},
   "outputs": [],
   "source": [
    "import pandas as pd"
   ]
  },
  {
   "cell_type": "code",
   "execution_count": 3,
   "metadata": {},
   "outputs": [
    {
     "name": "stderr",
     "output_type": "stream",
     "text": [
      "/var/folders/lg/zz8kzx7j04q6lvkcyzwjznwh0000gn/T/ipykernel_31186/781523208.py:3: DtypeWarning: Columns (6) have mixed types. Specify dtype option on import or set low_memory=False.\n",
      "  all_facilities = pd.read_csv('./data/all_facilities.csv')\n"
     ]
    }
   ],
   "source": [
    "voucher_programs = pd.read_csv('./data/voucher_programs.csv')\n",
    "normal_programs = pd.read_csv('./data/normal_programs.csv')\n",
    "all_facilities = pd.read_csv('./data/all_facilities.csv')"
   ]
  }
 ],
 "metadata": {
  "kernelspec": {
   "display_name": ".venv",
   "language": "python",
   "name": "python3"
  },
  "language_info": {
   "codemirror_mode": {
    "name": "ipython",
    "version": 3
   },
   "file_extension": ".py",
   "mimetype": "text/x-python",
   "name": "python",
   "nbconvert_exporter": "python",
   "pygments_lexer": "ipython3",
   "version": "3.12.7"
  }
 },
 "nbformat": 4,
 "nbformat_minor": 2
}
