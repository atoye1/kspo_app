{
 "cells": [
  {
   "cell_type": "code",
   "execution_count": 4,
   "metadata": {},
   "outputs": [],
   "source": [
    "import pandas as pd"
   ]
  },
  {
   "cell_type": "code",
   "execution_count": 5,
   "metadata": {},
   "outputs": [
    {
     "data": {
      "text/plain": [
       "(21279, 23)"
      ]
     },
     "execution_count": 5,
     "metadata": {},
     "output_type": "execute_result"
    }
   ],
   "source": [
    "children_fac_program = pd.read_json( \"./data/청소년 유아동 이용가능 체육시설 프로그램 정보.json\")\n",
    "children_fac_program['PROGRM_PRC'] = children_fac_program['PROGRM_PRC'].astype(int)\n",
    "children_fac_program.shape"
   ]
  },
  {
   "cell_type": "code",
   "execution_count": 6,
   "metadata": {},
   "outputs": [
    {
     "data": {
      "text/plain": [
       "(37154, 19)"
      ]
     },
     "execution_count": 6,
     "metadata": {},
     "output_type": "execute_result"
    }
   ],
   "source": [
    "public_fac_program = pd.read_csv( \"./data/공공체육시설 프로그램 정보.csv\")\n",
    "public_fac_program['PROGRM_PRC'] = public_fac_program['PROGRM_PRC'].astype(int)\n",
    "public_fac_program.shape"
   ]
  },
  {
   "cell_type": "code",
   "execution_count": 7,
   "metadata": {},
   "outputs": [],
   "source": [
    "checking_columns = [\"PROGRM_BEGIN_DE\",\n",
    "\"PROGRM_END_DE\",\n",
    "\"PROGRM_ESTBL_WKDAY_NM\",\n",
    "\"PROGRM_ESTBL_TIZN_VALUE\",\n",
    "\"PROGRM_RCRIT_NMPR_CO\",\n",
    "\"PROGRM_PRC\",\n",
    "\"FCLTY_NM\",\n",
    "\"PROGRM_NM\"]"
   ]
  },
  {
   "cell_type": "code",
   "execution_count": 8,
   "metadata": {},
   "outputs": [],
   "source": [
    "# checking columns가 다 있는지 확인\n",
    "for col in checking_columns:\n",
    "    if col not in public_fac_program.columns:\n",
    "        print(col)\n",
    "for col in checking_columns:\n",
    "    if col not in children_fac_program.columns:\n",
    "        print(col)"
   ]
  },
  {
   "cell_type": "code",
   "execution_count": 9,
   "metadata": {},
   "outputs": [
    {
     "name": "stdout",
     "output_type": "stream",
     "text": [
      "SAFE_MANAGT_CN\n",
      "EDC_GOAL_CN\n",
      "PRTC_NMPR_PARTCPT_AT\n",
      "LDR_QUALF_CN\n"
     ]
    }
   ],
   "source": [
    "for col in children_fac_program.columns:\n",
    "    if col not in public_fac_program.columns:\n",
    "        print(col)"
   ]
  },
  {
   "cell_type": "code",
   "execution_count": 10,
   "metadata": {},
   "outputs": [
    {
     "data": {
      "text/plain": [
       "(40573, 23)"
      ]
     },
     "execution_count": 10,
     "metadata": {},
     "output_type": "execute_result"
    }
   ],
   "source": [
    "# checking column을 기준으로 데이터를 비교하고, 중복되는 데이터를 제거\n",
    "merged_program_df = pd.merge(\n",
    "    public_fac_program,\n",
    "    children_fac_program,\n",
    "    on=checking_columns,\n",
    "    how='outer',\n",
    "    suffixes=('', '_children')\n",
    ")\n",
    "\n",
    "# 중복 컬럼 처리 - all_facility_status의 데이터 우선 사용\n",
    "for col in merged_program_df.columns:\n",
    "    if col.endswith(\"_children\"):\n",
    "        original_col = col[:-9]  # '_public' 제거\n",
    "        # null 값인 경우에만 public_facility의 값으로 대체\n",
    "        merged_program_df[original_col] = merged_program_df[original_col].fillna(merged_program_df[col])\n",
    "        merged_program_df.drop(columns=[col], inplace=True)\n",
    "\n",
    "for column in merged_program_df.columns:\n",
    "    if column.endswith(\"_children\"):\n",
    "        removed_col = column[:-9]\n",
    "        merged_program_df[removed_col] = merged_program_df[column]\n",
    "        merged_program_df.drop(columns=[removed_col], inplace=True)\n",
    "merged_program_df.to_csv(\"./data/merged_program_status.csv\", index=False)\n",
    "merged_program_df.shape"
   ]
  },
  {
   "cell_type": "code",
   "execution_count": null,
   "metadata": {},
   "outputs": [],
   "source": []
  }
 ],
 "metadata": {
  "kernelspec": {
   "display_name": ".venv",
   "language": "python",
   "name": "python3"
  },
  "language_info": {
   "codemirror_mode": {
    "name": "ipython",
    "version": 3
   },
   "file_extension": ".py",
   "mimetype": "text/x-python",
   "name": "python",
   "nbconvert_exporter": "python",
   "pygments_lexer": "ipython3",
   "version": "3.12.7"
  }
 },
 "nbformat": 4,
 "nbformat_minor": 2
}
