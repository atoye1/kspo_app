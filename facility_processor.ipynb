{
 "cells": [
  {
   "cell_type": "code",
   "execution_count": 1,
   "metadata": {},
   "outputs": [],
   "source": [
    "import pandas as pd"
   ]
  },
  {
   "cell_type": "code",
   "execution_count": 2,
   "metadata": {},
   "outputs": [],
   "source": [
    "def process_inactive_rows(df):\n",
    "    '''\n",
    "        폐업 및 삭제된 시설에 관한 데이터 제거\n",
    "    '''\n",
    "    _df = df.copy()\n",
    "    if 'FCLTY_STATE_VALUE' in _df.columns:\n",
    "        _df = _df[_df['FCLTY_STATE_VALUE'] != '폐업']\n",
    "    if 'DEL_AT' in _df.columns:\n",
    "        _df = _df[_df['DEL_AT'] != 'Y']\n",
    "    return _df\n",
    "\n",
    "def process_unnecessary_cols(df):\n",
    "    '''\n",
    "     불필요한 컬럼을 제거함\n",
    "    '''\n",
    "    _df = df.copy()\n",
    "    drop_cols = [\n",
    "        'FCLTY_MANAGE_LI_CD',\n",
    "        'FCLTY_MANAGE_LI_NM',\n",
    "        'ERDSGN_AT',\n",
    "        'ATNM_CHCK_TRGET_AT',\n",
    "        'DATA_ORIGIN_FLAG_CD',\n",
    "        'DEL_AT',\n",
    "    ]\n",
    "    drop_cols = [i for i in drop_cols if i in _df.columns]\n",
    "    _df.drop(columns=drop_cols, inplace=True)\n",
    "    return _df\n",
    "\n",
    "\n",
    "def process_duplicate_rows(df):\n",
    "    '''\n",
    "        시설명, 소재지, 시설유형명이 같은 데이터는 동일 시설로 간주하고 중복 제거\n",
    "    '''\n",
    "    _df = df.copy()\n",
    "    def first_non_null(series):\n",
    "        return series.dropna().iloc[0] if not series.dropna().empty else None\n",
    "    _df = _df.groupby(\n",
    "        [\"FCLTY_NM\", \"POSESN_MBY_CTPRVN_CD\", \"INDUTY_NM\"], as_index=False\n",
    "    ).agg(first_non_null)\n",
    "    return _df\n"
   ]
  },
  {
   "cell_type": "code",
   "execution_count": 3,
   "metadata": {},
   "outputs": [
    {
     "data": {
      "text/plain": [
       "(32112, 32)"
      ]
     },
     "execution_count": 3,
     "metadata": {},
     "output_type": "execute_result"
    }
   ],
   "source": [
    "public_facility_status = pd.read_csv('./data/전국공공체육시설 데이터.csv',\n",
    "                                     low_memory=False)\n",
    "public_facility_status = process_inactive_rows(public_facility_status)\n",
    "public_facility_status = process_unnecessary_cols(public_facility_status)\n",
    "public_facility_status = process_duplicate_rows(public_facility_status)\n",
    "public_facility_status.to_csv('./data/전국공공체육시설 데이터_cleaned.csv', index=False)\n",
    "public_facility_status.shape\n"
   ]
  },
  {
   "cell_type": "code",
   "execution_count": 4,
   "metadata": {},
   "outputs": [
    {
     "data": {
      "text/plain": [
       "(52716, 52)"
      ]
     },
     "execution_count": 4,
     "metadata": {},
     "output_type": "execute_result"
    }
   ],
   "source": [
    "all_facility_status = pd.read_csv('./data/전국체육시설현황 데이터.csv',\n",
    "                              on_bad_lines='skip',\n",
    "                              low_memory=False)\n",
    "# '폐업' 상태인 행 드롭\n",
    "all_facility_status = process_inactive_rows(all_facility_status)\n",
    "all_facility_status = process_unnecessary_cols(all_facility_status)\n",
    "all_facility_status = process_duplicate_rows(all_facility_status)\n",
    "all_facility_status.to_csv('./data/전국체육시설현황 데이터_cleaned.csv', index=False)\n",
    "all_facility_status.shape"
   ]
  },
  {
   "cell_type": "code",
   "execution_count": 5,
   "metadata": {},
   "outputs": [
    {
     "data": {
      "text/plain": [
       "49624"
      ]
     },
     "execution_count": 5,
     "metadata": {},
     "output_type": "execute_result"
    }
   ],
   "source": [
    "all_facility_status['FCLTY_NM'].nunique()"
   ]
  },
  {
   "cell_type": "code",
   "execution_count": 6,
   "metadata": {},
   "outputs": [
    {
     "data": {
      "text/plain": [
       "(53570, 63)"
      ]
     },
     "execution_count": 6,
     "metadata": {},
     "output_type": "execute_result"
    }
   ],
   "source": [
    "# 최종적으로 두 데이터프레임을 병합하고 결과값을 csv로 저장\n",
    "\n",
    "merged_df = pd.merge(\n",
    "    all_facility_status,\n",
    "    public_facility_status,\n",
    "    on=['FCLTY_NM', 'POSESN_MBY_CTPRVN_CD', 'INDUTY_NM'],\n",
    "    how='outer',\n",
    "    suffixes=('', '_public')\n",
    ")\n",
    "\n",
    "# 중복 컬럼 처리 - all_facility_status의 데이터 우선 사용\n",
    "for col in merged_df.columns:\n",
    "    if col.endswith('_public'):\n",
    "        original_col = col[:-7]  # '_public' 제거\n",
    "        # null 값인 경우에만 public_facility의 값으로 대체\n",
    "        merged_df[original_col] = merged_df[original_col].fillna(merged_df[col])\n",
    "        merged_df.drop(columns=[col], inplace=True)\n",
    "\n",
    "merged_df.to_csv('./data/merged_facility_status.csv', index=False)\n",
    "merged_df.shape\n"
   ]
  },
  {
   "cell_type": "code",
   "execution_count": null,
   "metadata": {},
   "outputs": [],
   "source": []
  }
 ],
 "metadata": {
  "kernelspec": {
   "display_name": ".venv",
   "language": "python",
   "name": "python3"
  },
  "language_info": {
   "codemirror_mode": {
    "name": "ipython",
    "version": 3
   },
   "file_extension": ".py",
   "mimetype": "text/x-python",
   "name": "python",
   "nbconvert_exporter": "python",
   "pygments_lexer": "ipython3",
   "version": "3.12.7"
  }
 },
 "nbformat": 4,
 "nbformat_minor": 2
}
