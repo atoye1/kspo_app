{
 "cells": [
  {
   "cell_type": "code",
   "execution_count": 1,
   "metadata": {},
   "outputs": [],
   "source": [
    "import pandas as pd"
   ]
  },
  {
   "cell_type": "code",
   "execution_count": 22,
   "metadata": {},
   "outputs": [
    {
     "name": "stderr",
     "output_type": "stream",
     "text": [
      "/tmp/ipykernel_4776/3278703782.py:1: DtypeWarning: Columns (19) have mixed types. Specify dtype option on import or set low_memory=False.\n",
      "  public_facility_status = pd.read_csv('./data/전국공공체육시설 데이터(202407).csv')\n"
     ]
    },
    {
     "data": {
      "text/plain": [
       "(40008, 33)"
      ]
     },
     "execution_count": 22,
     "metadata": {},
     "output_type": "execute_result"
    }
   ],
   "source": [
    "public_facility_status = pd.read_csv('./data/전국공공체육시설 데이터(202407).csv')\n",
    "public_facility_status.shape"
   ]
  },
  {
   "cell_type": "code",
   "execution_count": 23,
   "metadata": {},
   "outputs": [
    {
     "name": "stderr",
     "output_type": "stream",
     "text": [
      "/tmp/ipykernel_4776/1628147436.py:1: DtypeWarning: Columns (8,11,15,18,20,24,26,29,31,33,35,50) have mixed types. Specify dtype option on import or set low_memory=False.\n",
      "  all_facility_status = pd.read_csv('./data/전국체육시설현황 데이터(202407).csv',\n"
     ]
    },
    {
     "data": {
      "text/plain": [
       "(139058, 58)"
      ]
     },
     "execution_count": 23,
     "metadata": {},
     "output_type": "execute_result"
    }
   ],
   "source": [
    "all_facility_status = pd.read_csv('./data/전국체육시설현황 데이터(202407).csv',\n",
    "                              on_bad_lines='skip')\n",
    "all_facility_status.shape"
   ]
  },
  {
   "cell_type": "code",
   "execution_count": 24,
   "metadata": {},
   "outputs": [
    {
     "name": "stdout",
     "output_type": "stream",
     "text": [
      "RSPNSBLTY_DEPT_NM\n",
      "ROAD_NM_CTPRVN_CD\n",
      "ROAD_NM_CTPRVN_NM\n",
      "ROAD_NM_SIGNGU_CD\n",
      "ROAD_NM_SIGNGU_NM\n",
      "ROAD_NM_EMD_CD\n",
      "ROAD_NM_EMD_NM\n",
      "ROAD_NM_LI_CD\n",
      "ROAD_NM_LI_NM\n",
      "RDNMADR_NM\n",
      "FCLTY_STATE_CD\n"
     ]
    }
   ],
   "source": [
    "for col in public_facility_status.columns:\n",
    "    if col not in all_facility_status.columns:\n",
    "        print(col)\n"
   ]
  },
  {
   "cell_type": "code",
   "execution_count": null,
   "metadata": {},
   "outputs": [],
   "source": []
  }
 ],
 "metadata": {
  "language_info": {
   "name": "python"
  }
 },
 "nbformat": 4,
 "nbformat_minor": 2
}
