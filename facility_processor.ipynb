{
 "cells": [
  {
   "cell_type": "code",
   "execution_count": 1,
   "metadata": {},
   "outputs": [],
   "source": [
    "import pandas as pd"
   ]
  },
  {
   "cell_type": "code",
   "execution_count": null,
   "metadata": {},
   "outputs": [],
   "source": [
    "public_facility = pd.read_csv('전국공공체육시설데이터.csv')\n",
    "facility_status = pd.read_csv('전국체육시설현황데이터.csv')\n",
    "merged_facility = pd.merge(public_facility, facility_status, on='FCLTY_NM', how='outer')\n"
   ]
  }
 ],
 "metadata": {
  "language_info": {
   "name": "python"
  }
 },
 "nbformat": 4,
 "nbformat_minor": 2
}
